{
 "cells": [
  {
   "cell_type": "markdown",
   "metadata": {},
   "source": [
    "**The Environment**"
   ]
  },
  {
   "cell_type": "markdown",
   "metadata": {},
   "source": [
    "The environment for this project is a graph of nodes connected by edges. The agent, the prey, and the predator,\n",
    "can move between the nodes along the edges. There are 50 nodes, numbered 1 to 50, connected in a large circle.\n",
    "\n",
    "Additionally, add edges at random to increase connectivity across the circle, in the following way:\n",
    "\n",
    "\u000f Picking a random node with degree less than 3,\n",
    "\u000f add an edge between it and one node within 5 steps forward or backward along the primary loop. (So node 10\n",
    "might get connected to node 7 or node 15, but not node 16.)\n",
    "\u000f Do this until no more edges can be added.\n",
    "\n",
    "Graph Theory Question: With this setup, you can add at most 25 additional edges (why?). Are you\n",
    "always able to add this many? If not, what's the smallest number of edges you're always able to add?*"
   ]
  },
  {
   "cell_type": "markdown",
   "metadata": {},
   "source": [
    "*Creating circle loop grapgh*"
   ]
  },
  {
   "cell_type": "code",
   "execution_count": 16,
   "metadata": {},
   "outputs": [
    {
     "name": "stdout",
     "output_type": "stream",
     "text": [
      "The circle loop graph generates is:\n",
      " {1: {2, 50}, 2: {1, 3}, 3: {2, 4}, 4: {3, 5}, 5: {4, 6}, 6: {5, 7}, 7: {8, 6}, 8: {9, 7}, 9: {8, 10}, 10: {9, 11}, 11: {10, 12}, 12: {11, 13}, 13: {12, 14}, 14: {13, 15}, 15: {16, 14}, 16: {17, 15}, 17: {16, 18}, 18: {17, 19}, 19: {18, 20}, 20: {19, 21}, 21: {20, 22}, 22: {21, 23}, 23: {24, 22}, 24: {25, 23}, 25: {24, 26}, 26: {25, 27}, 27: {26, 28}, 28: {27, 29}, 29: {28, 30}, 30: {29, 31}, 31: {32, 30}, 32: {33, 31}, 33: {32, 34}, 34: {33, 35}, 35: {34, 36}, 36: {35, 37}, 37: {36, 38}, 38: {37, 39}, 39: {40, 38}, 40: {41, 39}, 41: {40, 42}, 42: {41, 43}, 43: {42, 44}, 44: {43, 45}, 45: {44, 46}, 46: {45, 47}, 47: {48, 46}, 48: {49, 47}, 49: {48, 50}, 50: {49, 1}}\n"
     ]
    }
   ],
   "source": [
    "graph = {}\n",
    "\n",
    "nodes = 50\n",
    "for node in range(1,nodes+1):\n",
    "    graph[node] = set()\n",
    "\n",
    "for node in range(1,nodes):\n",
    "    if node != 1:\n",
    "        graph[node].add(node-1)\n",
    "    \n",
    "    graph[node].add(node+1)\n",
    "    #graph[node+1].add(node)\n",
    "    if node == 49:\n",
    "        graph[50].add(node)\n",
    "        graph[50].add(1)\n",
    "        graph[1].add(50)\n",
    "print(\"The circle loop graph generates is:\\n\",graph)\n",
    "\n"
   ]
  },
  {
   "cell_type": "markdown",
   "metadata": {},
   "source": [
    "*Adding extra edges to the graph*"
   ]
  },
  {
   "cell_type": "code",
   "execution_count": 17,
   "metadata": {},
   "outputs": [
    {
     "name": "stdout",
     "output_type": "stream",
     "text": [
      "{2, 50}\n",
      "{1, 3}\n",
      "add to node:  7\n",
      "{2, 4}\n",
      "add to node:  9\n",
      "{3, 5}\n",
      "{4, 6}\n",
      "{5, 7}\n",
      "add to node:  8\n",
      "{8, 2, 6}\n",
      "{9, 6, 7}\n",
      "{8, 10, 3}\n",
      "{9, 11}\n",
      "{10, 12}\n",
      "add to node:  15\n",
      "{11, 13}\n",
      "add to node:  16\n",
      "{12, 14}\n",
      "{13, 15}\n",
      "add to node:  10\n",
      "{16, 11, 14}\n",
      "{17, 12, 15}\n",
      "{16, 18}\n",
      "{17, 19}\n",
      "{18, 20}\n",
      "add to node:  23\n",
      "{19, 21}\n",
      "add to node:  21\n",
      "{20, 22}\n",
      "{21, 23}\n",
      "{24, 19, 22}\n",
      "{25, 23}\n",
      "add to node:  21\n",
      "{24, 26}\n",
      "add to node:  22\n",
      "{25, 27}\n",
      "add to node:  25\n",
      "{26, 28}\n",
      "{27, 29}\n",
      "{28, 30}\n",
      "add to node:  27\n",
      "{29, 31}\n",
      "{32, 30}\n",
      "add to node:  29\n",
      "{33, 31}\n",
      "{32, 34}\n",
      "{33, 35}\n",
      "{34, 36}\n",
      "add to node:  31\n",
      "{35, 37}\n",
      "{36, 38}\n",
      "add to node:  39\n",
      "{37, 39}\n",
      "add to node:  37\n",
      "{40, 37, 38}\n",
      "{41, 39}\n",
      "{40, 42}\n",
      "{41, 43}\n",
      "add to node:  46\n",
      "{42, 44}\n",
      "{43, 45}\n",
      "{44, 46}\n",
      "{42, 45, 47}\n",
      "{48, 46}\n",
      "{49, 47}\n",
      "add to node:  45\n",
      "{48, 50}\n",
      "add to node:  47\n",
      "{49, 1}\n",
      "add to node:  48\n",
      "{1: {2, 50}, 2: {1, 3, 7}, 3: {9, 2, 4}, 4: {3, 5}, 5: {4, 6}, 6: {8, 5, 7}, 7: {8, 2, 6}, 8: {9, 6, 7}, 9: {8, 10, 3}, 10: {9, 11, 14}, 11: {10, 12, 15}, 12: {16, 11, 13}, 13: {12, 14}, 14: {10, 13, 15}, 15: {16, 11, 14}, 16: {17, 12, 15}, 17: {16, 18}, 18: {17, 19}, 19: {18, 20, 23}, 20: {19, 21}, 21: {24, 20, 22}, 22: {25, 21, 23}, 23: {24, 19, 22}, 24: {25, 21, 23}, 25: {24, 26, 22}, 26: {25, 27}, 27: {26, 28, 29}, 28: {27, 29}, 29: {27, 28, 30}, 30: {29, 31}, 31: {32, 35, 30}, 32: {33, 31}, 33: {32, 34}, 34: {33, 35}, 35: {34, 36, 31}, 36: {35, 37}, 37: {36, 38, 39}, 38: {37, 39}, 39: {40, 37, 38}, 40: {41, 39}, 41: {40, 42}, 42: {41, 43, 46}, 43: {42, 44}, 44: {43, 45}, 45: {48, 44, 46}, 46: {42, 45, 47}, 47: {48, 49, 46}, 48: {49, 45, 47}, 49: {48, 50, 47}, 50: {49, 1}}\n"
     ]
    }
   ],
   "source": [
    "import random\n",
    "\n",
    "#degree_reached = False\n",
    "#while degree_reached == False:\n",
    "old_dic = {}\n",
    "while old_dic != graph:\n",
    "    old_dic = graph\n",
    "    for node in range(1,51):\n",
    "        print(graph[node])\n",
    "        if len(graph[node]) < 3:\n",
    "            #print(\"aya\")\n",
    "            if random.choice([1,0]) == 1: #* if 1 the add edge\n",
    "                add_to_node = node + random.choice([random.randint(1,6),random.randint(-5,-1)])\n",
    "                print(\"add to node: \", add_to_node)\n",
    "                if add_to_node < 1:\n",
    "                    add_to_node = add_to_node + 50 \n",
    "                elif add_to_node > 50:\n",
    "                        add_to_node = add_to_node - 50\n",
    "                if len(graph[add_to_node]) < 3:\n",
    "                    graph[node].add(add_to_node)\n",
    "                    graph[add_to_node].add(node)\n",
    "                    \n",
    "            #else:\n",
    "            #    degree_reached = True\n",
    "\n",
    "    #print(graph)\n",
    "print(graph)\n"
   ]
  },
  {
   "cell_type": "code",
   "execution_count": 18,
   "metadata": {},
   "outputs": [],
   "source": [
    "from cProfile import label\n",
    "from unicodedata import name\n",
    "import numpy as np\n",
    "import networkx as nx\n",
    "from pyvis.network import Network\n",
    "\n",
    "\n",
    "G = nx.from_dict_of_lists(graph, create_using=nx.MultiDiGraph)\n",
    "G2 = Network()\n",
    "G2.from_nx(G)\n",
    "G2.show('network_map.html')"
   ]
  }
 ],
 "metadata": {
  "kernelspec": {
   "display_name": "Python 3.7.6 ('base')",
   "language": "python",
   "name": "python3"
  },
  "language_info": {
   "codemirror_mode": {
    "name": "ipython",
    "version": 3
   },
   "file_extension": ".py",
   "mimetype": "text/x-python",
   "name": "python",
   "nbconvert_exporter": "python",
   "pygments_lexer": "ipython3",
   "version": "3.7.6"
  },
  "orig_nbformat": 4,
  "vscode": {
   "interpreter": {
    "hash": "a51737a4c0e7328d8ce0f0decd4cd1b65f27dccb5edff84165db78d2aa40b74b"
   }
  }
 },
 "nbformat": 4,
 "nbformat_minor": 2
}
