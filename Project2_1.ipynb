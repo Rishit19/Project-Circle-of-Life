{
 "cells": [
  {
   "cell_type": "markdown",
   "metadata": {},
   "source": [
    "**The Environment**"
   ]
  },
  {
   "cell_type": "markdown",
   "metadata": {},
   "source": [
    "The environment for this project is a graph of nodes connected by edges. The agent, the prey, and the predator,\n",
    "can move between the nodes along the edges. There are 50 nodes, numbered 1 to 50, connected in a large circle.\n",
    "\n",
    "Additionally, add edges at random to increase connectivity across the circle, in the following way:\n",
    "\n",
    "\u000f Picking a random node with degree less than 3,\n",
    "\u000f add an edge between it and one node within 5 steps forward or backward along the primary loop. (So node 10\n",
    "might get connected to node 7 or node 15, but not node 16.)\n",
    "\u000f Do this until no more edges can be added.\n",
    "\n",
    "Graph Theory Question: With this setup, you can add at most 25 additional edges (why?). Are you\n",
    "always able to add this many? If not, what's the smallest number of edges you're always able to add?*"
   ]
  },
  {
   "cell_type": "markdown",
   "metadata": {},
   "source": [
    "*Creating circle loop grapgh*"
   ]
  },
  {
   "cell_type": "code",
   "execution_count": 13,
   "metadata": {},
   "outputs": [
    {
     "name": "stdout",
     "output_type": "stream",
     "text": [
      "The circle loop graph generates is:\n",
      " {1: {2, 50}, 2: {1, 3}, 3: {2, 4}, 4: {3, 5}, 5: {4, 6}, 6: {5, 7}, 7: {8, 6}, 8: {9, 7}, 9: {8, 10}, 10: {9, 11}, 11: {10, 12}, 12: {11, 13}, 13: {12, 14}, 14: {13, 15}, 15: {16, 14}, 16: {17, 15}, 17: {16, 18}, 18: {17, 19}, 19: {18, 20}, 20: {19, 21}, 21: {20, 22}, 22: {21, 23}, 23: {24, 22}, 24: {25, 23}, 25: {24, 26}, 26: {25, 27}, 27: {26, 28}, 28: {27, 29}, 29: {28, 30}, 30: {29, 31}, 31: {32, 30}, 32: {33, 31}, 33: {32, 34}, 34: {33, 35}, 35: {34, 36}, 36: {35, 37}, 37: {36, 38}, 38: {37, 39}, 39: {40, 38}, 40: {41, 39}, 41: {40, 42}, 42: {41, 43}, 43: {42, 44}, 44: {43, 45}, 45: {44, 46}, 46: {45, 47}, 47: {48, 46}, 48: {49, 47}, 49: {48, 50}, 50: {49, 1}}\n"
     ]
    }
   ],
   "source": [
    "graph = {}\n",
    "\n",
    "nodes = 50\n",
    "for node in range(1,nodes+1):\n",
    "    graph[node] = set()\n",
    "\n",
    "for node in range(1,nodes):\n",
    "    if node != 1:\n",
    "        graph[node].add(node-1)\n",
    "    \n",
    "    graph[node].add(node+1)\n",
    "    #graph[node+1].add(node)\n",
    "    if node == 49:\n",
    "        graph[50].add(node)\n",
    "        graph[50].add(1)\n",
    "        graph[1].add(50)\n",
    "print(\"The circle loop graph generates is:\\n\",graph)\n",
    "\n"
   ]
  },
  {
   "cell_type": "markdown",
   "metadata": {},
   "source": [
    "*Adding extra edges to the graph*"
   ]
  },
  {
   "cell_type": "code",
   "execution_count": 14,
   "metadata": {},
   "outputs": [
    {
     "name": "stdout",
     "output_type": "stream",
     "text": [
      "{1: {2, 50}, 2: {1, 3, 5}, 3: {2, 4}, 4: {50, 3, 5}, 5: {2, 4, 6}, 6: {9, 5, 7}, 7: {8, 6}, 8: {9, 7}, 9: {8, 10, 6}, 10: {9, 11}, 11: {10, 12}, 12: {11, 13}, 13: {18, 12, 14}, 14: {13, 15}, 15: {16, 17, 14}, 16: {17, 15}, 17: {16, 18, 15}, 18: {17, 19, 13}, 19: {18, 20, 21}, 20: {19, 21}, 21: {19, 20, 22}, 22: {21, 23}, 23: {24, 22}, 24: {25, 23}, 25: {24, 26}, 26: {25, 27}, 27: {26, 28, 29}, 28: {27, 29}, 29: {27, 28, 30}, 30: {33, 29, 31}, 31: {32, 30}, 32: {33, 37, 31}, 33: {32, 34, 30}, 34: {33, 35, 36}, 35: {34, 36}, 36: {34, 35, 37}, 37: {32, 36, 38}, 38: {40, 37, 39}, 39: {40, 38}, 40: {41, 38, 39}, 41: {40, 42}, 42: {41, 43, 44}, 43: {42, 44}, 44: {42, 43, 45}, 45: {44, 46}, 46: {48, 45, 47}, 47: {48, 46}, 48: {49, 46, 47}, 49: {48, 50}, 50: {49, 4, 1}}\n"
     ]
    }
   ],
   "source": [
    "import random\n",
    "\n",
    "#degree_reached = False\n",
    "#while degree_reached == False:\n",
    "old_dic = {}\n",
    "while old_dic != graph:\n",
    "    old_dic = graph\n",
    "    for node in range(1,51):\n",
    "        #print(graph[node])\n",
    "        if len(graph[node]) < 3:\n",
    "            #print(\"aya\")\n",
    "            if random.choice([1,0]) == 1: #* if 1 the add edge\n",
    "                add_to_node = node + random.choice([random.randint(1,6),random.randint(-5,-1)])\n",
    "                #print(\"add to node: \", add_to_node)\n",
    "                if add_to_node < 1:\n",
    "                    add_to_node = add_to_node + 50 \n",
    "                elif add_to_node > 50:\n",
    "                        add_to_node = add_to_node - 50\n",
    "                if len(graph[add_to_node]) < 3:\n",
    "                    graph[node].add(add_to_node)\n",
    "                    graph[add_to_node].add(node)\n",
    "                    \n",
    "            #else:\n",
    "            #    degree_reached = True\n",
    "\n",
    "    #print(graph)\n",
    "print(graph)\n"
   ]
  },
  {
   "cell_type": "markdown",
   "metadata": {},
   "source": [
    "Visualising the graph created"
   ]
  },
  {
   "cell_type": "code",
   "execution_count": 15,
   "metadata": {},
   "outputs": [],
   "source": [
    "# import numpy as np\n",
    "# import networkx as nx\n",
    "# from pyvis.network import Network\n",
    "\n",
    "\n",
    "# G = nx.from_dict_of_lists(graph, create_using=nx.MultiDiGraph)\n",
    "# G2 = Network()\n",
    "# G2.from_nx(G)\n",
    "# G2.show('network_map.html')"
   ]
  },
  {
   "cell_type": "markdown",
   "metadata": {},
   "source": [
    "Prey and Predator"
   ]
  },
  {
   "cell_type": "markdown",
   "metadata": {},
   "source": [
    "Retraced shortest path"
   ]
  },
  {
   "cell_type": "code",
   "execution_count": 16,
   "metadata": {},
   "outputs": [],
   "source": [
    "def retraced_path(prev,curr_node,goal): #* changed prev in func def\n",
    "    #print(\"entering retracd path\") #* no need to print\n",
    "    fwd_path = {}\n",
    "    #fwd_stack = LifoQueue()\n",
    "    cell = goal #4,4\n",
    "    \n",
    "    while prev[cell]!= None and cell != curr_node  :\n",
    "        \n",
    "        fwd_path[prev[cell]] = cell\n",
    "        #fwd_stack.put((cell,prev[cell]))\n",
    "        cell = prev[cell]\n",
    "        \n",
    "   \n",
    "     #* return the path to be followed by the agent in the order from starting to end\n",
    "    return len(fwd_path.keys())"
   ]
  },
  {
   "cell_type": "code",
   "execution_count": 20,
   "metadata": {},
   "outputs": [
    {
     "name": "stdout",
     "output_type": "stream",
     "text": [
      "prey child chosen: 2\n",
      "pred child chosen: 4\n",
      "{1: {2, 50}, 2: {1, 3, 5}, 3: {2, 4}, 4: {50, 3, 5}, 5: {2, 4, 6}, 6: {9, 5, 7}, 7: {8, 6}, 8: {9, 7}, 9: {8, 10, 6}, 10: {9, 11}, 11: {10, 12}, 12: {11, 13}, 13: {18, 12, 14}, 14: {13, 15}, 15: {16, 17, 14}, 16: {17, 15}, 17: {16, 18, 15}, 18: {17, 19, 13}, 19: {18, 20, 21}, 20: {19, 21}, 21: {19, 20, 22}, 22: {21, 23}, 23: {24, 22}, 24: {25, 23}, 25: {24, 26}, 26: {25, 27}, 27: {26, 28, 29}, 28: {27, 29}, 29: {27, 28, 30}, 30: {33, 29, 31}, 31: {32, 30}, 32: {33, 37, 31}, 33: {32, 34, 30}, 34: {33, 35, 36}, 35: {34, 36}, 36: {34, 35, 37}, 37: {32, 36, 38}, 38: {40, 37, 39}, 39: {40, 38}, 40: {41, 38, 39}, 41: {40, 42}, 42: {41, 43, 44}, 43: {42, 44}, 44: {42, 43, 45}, 45: {44, 46}, 46: {48, 45, 47}, 47: {48, 46}, 48: {49, 46, 47}, 49: {48, 50}, 50: {49, 4, 1}}\n"
     ]
    }
   ],
   "source": [
    "import numpy as np\n",
    "import random\n",
    "import math\n",
    "\n",
    "from queue import Queue \n",
    "\n",
    "def bfs(curr_pred_node,curr_agent_node):\n",
    "    goal = curr_agent_node\n",
    "    queue = Queue()\n",
    "    prev = {\n",
    "        curr_pred_node: None\n",
    "    }\n",
    "    visited = set()\n",
    "    queue.put(curr_pred_node)\n",
    "    #explore = []\n",
    "    while queue.empty() == False:\n",
    "        curr_state = queue.get()\n",
    "        \n",
    "        \n",
    "        if curr_state not in visited:\n",
    "           # explore.append(curr_state)\n",
    "        \n",
    "            if curr_state == goal:\n",
    "                #print(\"found the path for agent 1\") #, curr_state,prev) # #* no need to print\n",
    "                #print(explore) #* no need to print\n",
    "                shortest_path = retraced_path(prev,curr_pred_node,goal)\n",
    "                return shortest_path\n",
    "                #break\n",
    "            else:\n",
    "                for child in graph[curr_state]:\n",
    "                    if child not in visited : \n",
    "                    \n",
    "                        queue.put(child)\n",
    "                        if child not in prev.keys():# --> check this\n",
    "                            prev[child] = curr_state\n",
    "                visited.add(curr_state)\n",
    "    \n",
    "    return \n",
    "\n",
    "\n",
    "\n",
    "\n",
    "def move_prey(curr_prey_node):\n",
    "    prey_neighbors = [node for node in graph[curr_prey_node]]\n",
    "    prey_neighbors.append(curr_prey_node)\n",
    "    selected_prey_neighbor = random.choice(prey_neighbors)\n",
    "    #print(selected_prey_neighbor)\n",
    "    return(selected_prey_neighbor)\n",
    "def move_predator(curr_pred_node,curr_agent_node):\n",
    "    min_dist_to_agent = math.inf\n",
    "    breaking_ties_list = []\n",
    "    for neighbor in graph[curr_pred_node]:\n",
    "        dist_to_agent = bfs(neighbor,curr_agent_node)\n",
    "        if dist_to_agent <= min_dist_to_agent:\n",
    "            min_dist_to_agent = dist_to_agent\n",
    "            #selected_pred_neighbor = neighbor\n",
    "            breaking_ties_list.append(neighbor)\n",
    "        #print(breaking_ties_list)\n",
    "        selected_pred_neighbor = random.choice(breaking_ties_list)\n",
    "\n",
    "    \n",
    "    return(selected_pred_neighbor)\n",
    "\n",
    "   # print(\"build function\")\n",
    "\n",
    "print(\"prey child chosen:\" ,move_prey(5))\n",
    "print(\"pred child chosen:\",move_predator(3,49))\n",
    "print(graph)"
   ]
  }
 ],
 "metadata": {
  "kernelspec": {
   "display_name": "Python 3.10.8 64-bit (microsoft store)",
   "language": "python",
   "name": "python3"
  },
  "language_info": {
   "codemirror_mode": {
    "name": "ipython",
    "version": 3
   },
   "file_extension": ".py",
   "mimetype": "text/x-python",
   "name": "python",
   "nbconvert_exporter": "python",
   "pygments_lexer": "ipython3",
   "version": "3.10.8"
  },
  "orig_nbformat": 4,
  "vscode": {
   "interpreter": {
    "hash": "9de7a530df2c1f8094669827add489925d3478441e7863b270193c3667d5896f"
   }
  }
 },
 "nbformat": 4,
 "nbformat_minor": 2
}
