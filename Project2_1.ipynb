{
 "cells": [
  {
   "cell_type": "markdown",
   "metadata": {},
   "source": [
    "**The Environment**"
   ]
  },
  {
   "cell_type": "markdown",
   "metadata": {},
   "source": [
    "The environment for this project is a graph of nodes connected by edges. The agent, the prey, and the predator,\n",
    "can move between the nodes along the edges. There are 50 nodes, numbered 1 to 50, connected in a large circle.\n",
    "\n",
    "Additionally, add edges at random to increase connectivity across the circle, in the following way:\n",
    "\n",
    "\u000f Picking a random node with degree less than 3,\n",
    "\u000f add an edge between it and one node within 5 steps forward or backward along the primary loop. (So node 10\n",
    "might get connected to node 7 or node 15, but not node 16.)\n",
    "\u000f Do this until no more edges can be added.\n",
    "\n",
    "Graph Theory Question: With this setup, you can add at most 25 additional edges (why?). Are you\n",
    "always able to add this many? If not, what's the smallest number of edges you're always able to add?*"
   ]
  },
  {
   "cell_type": "markdown",
   "metadata": {},
   "source": [
    "*Creating circle loop grapgh*"
   ]
  },
  {
   "cell_type": "code",
   "execution_count": 1,
   "metadata": {},
   "outputs": [
    {
     "name": "stdout",
     "output_type": "stream",
     "text": [
      "The circle loop graph generates is:\n",
      " {1: {2, 50}, 2: {1, 3}, 3: {2, 4}, 4: {3, 5}, 5: {4, 6}, 6: {5, 7}, 7: {8, 6}, 8: {9, 7}, 9: {8, 10}, 10: {9, 11}, 11: {10, 12}, 12: {11, 13}, 13: {12, 14}, 14: {13, 15}, 15: {16, 14}, 16: {17, 15}, 17: {16, 18}, 18: {17, 19}, 19: {18, 20}, 20: {19, 21}, 21: {20, 22}, 22: {21, 23}, 23: {24, 22}, 24: {25, 23}, 25: {24, 26}, 26: {25, 27}, 27: {26, 28}, 28: {27, 29}, 29: {28, 30}, 30: {29, 31}, 31: {32, 30}, 32: {33, 31}, 33: {32, 34}, 34: {33, 35}, 35: {34, 36}, 36: {35, 37}, 37: {36, 38}, 38: {37, 39}, 39: {40, 38}, 40: {41, 39}, 41: {40, 42}, 42: {41, 43}, 43: {42, 44}, 44: {43, 45}, 45: {44, 46}, 46: {45, 47}, 47: {48, 46}, 48: {49, 47}, 49: {48, 50}, 50: {49, 1}}\n"
     ]
    }
   ],
   "source": [
    "graph = {}\n",
    "\n",
    "nodes = 50\n",
    "for node in range(1,nodes+1):\n",
    "    graph[node] = set()\n",
    "\n",
    "for node in range(1,nodes):\n",
    "    if node != 1:\n",
    "        graph[node].add(node-1)\n",
    "    \n",
    "    graph[node].add(node+1)\n",
    "    #graph[node+1].add(node)\n",
    "    if node == 49:\n",
    "        graph[50].add(node)\n",
    "        graph[50].add(1)\n",
    "        graph[1].add(50)\n",
    "print(\"The circle loop graph generates is:\\n\",graph)\n",
    "\n"
   ]
  },
  {
   "cell_type": "markdown",
   "metadata": {},
   "source": [
    "*Adding extra edges to the graph*"
   ]
  },
  {
   "cell_type": "code",
   "execution_count": 107,
   "metadata": {},
   "outputs": [
    {
     "name": "stdout",
     "output_type": "stream",
     "text": [
      "{2, 50, 6}\n",
      "{1, 3, 4}\n",
      "{2, 4, 5}\n",
      "{2, 3, 5}\n",
      "{3, 4, 6}\n",
      "{1, 5, 7}\n",
      "{8, 6}\n",
      "aya\n",
      "{9, 10, 7}\n",
      "{8, 10, 11}\n",
      "{8, 9, 11}\n",
      "{9, 10, 12}\n",
      "{11, 13, 14}\n",
      "{17, 12, 14}\n",
      "{12, 13, 15}\n",
      "{16, 21, 14}\n",
      "{17, 18, 15}\n",
      "{16, 18, 13}\n",
      "{16, 17, 19}\n",
      "{18, 20, 23}\n",
      "{25, 19, 21}\n",
      "{20, 22, 15}\n",
      "{24, 21, 23}\n",
      "{24, 19, 22}\n",
      "{25, 22, 23}\n",
      "{24, 26, 20}\n",
      "{32, 25, 27}\n",
      "{26, 28, 29}\n",
      "{27, 29, 31}\n",
      "{27, 28, 30}\n",
      "{35, 29, 31}\n",
      "{32, 28, 30}\n",
      "{33, 26, 31}\n",
      "{32, 34, 36}\n",
      "{33, 35, 39}\n",
      "{34, 36, 30}\n",
      "{33, 35, 37}\n",
      "{43, 36, 38}\n",
      "{44, 37, 39}\n",
      "{40, 34, 38}\n",
      "{41, 45, 39}\n",
      "{40, 42}\n",
      "aya\n",
      "{41, 43}\n",
      "aya\n",
      "{42, 44, 37}\n",
      "{43, 45, 38}\n",
      "{40, 44, 46}\n",
      "{50, 45, 47}\n",
      "{48, 49, 46}\n",
      "{49, 47}\n",
      "aya\n",
      "{48, 50, 47}\n",
      "{46, 49, 1}\n",
      "{1: {2, 50, 6}, 2: {1, 3, 4}, 3: {2, 4, 5}, 4: {2, 3, 5}, 5: {3, 4, 6}, 6: {1, 5, 7}, 7: {8, 6}, 8: {9, 10, 7}, 9: {8, 10, 11}, 10: {8, 9, 11}, 11: {9, 10, 12}, 12: {11, 13, 14}, 13: {17, 12, 14}, 14: {12, 13, 15}, 15: {16, 21, 14}, 16: {17, 18, 15}, 17: {16, 18, 13}, 18: {16, 17, 19}, 19: {18, 20, 23}, 20: {25, 19, 21}, 21: {20, 22, 15}, 22: {24, 21, 23}, 23: {24, 19, 22}, 24: {25, 22, 23}, 25: {24, 26, 20}, 26: {32, 25, 27}, 27: {26, 28, 29}, 28: {27, 29, 31}, 29: {27, 28, 30}, 30: {35, 29, 31}, 31: {32, 28, 30}, 32: {33, 26, 31}, 33: {32, 34, 36}, 34: {33, 35, 39}, 35: {34, 36, 30}, 36: {33, 35, 37}, 37: {43, 36, 38}, 38: {44, 37, 39}, 39: {40, 34, 38}, 40: {41, 45, 39}, 41: {40, 42}, 42: {41, 43}, 43: {42, 44, 37}, 44: {43, 45, 38}, 45: {40, 44, 46}, 46: {50, 45, 47}, 47: {48, 49, 46}, 48: {49, 47}, 49: {48, 50, 47}, 50: {46, 49, 1}}\n"
     ]
    }
   ],
   "source": [
    "import random\n",
    "\n",
    "#degree_reached = False\n",
    "#while degree_reached == False:\n",
    "for node in range(1,51):\n",
    "    print(graph[node])\n",
    "    if len(graph[node]) < 3:\n",
    "        print(\"aya\")\n",
    "        if random.choice([1,0]) == 1: #* if 1 the add edge\n",
    "            add_to_node = node + random.choice([random.randint(1,6),random.randint(-5,-1)])\n",
    "            if add_to_node < 1:\n",
    "                add_to_node = add_to_node + node + 50 \n",
    "            elif add_to_node > 50:\n",
    "                    add_to_node = add_to_node - 50\n",
    "            if len(graph[add_to_node]) < 3:\n",
    "                graph[node].add(add_to_node)\n",
    "                graph[add_to_node].add(node)\n",
    "                \n",
    "        #else:\n",
    "        #    degree_reached = True\n",
    "\n",
    "print(graph)\n",
    "\n"
   ]
  },
  {
   "cell_type": "code",
   "execution_count": 53,
   "metadata": {},
   "outputs": [
    {
     "name": "stdout",
     "output_type": "stream",
     "text": [
      "2\n"
     ]
    }
   ],
   "source": [
    "print(len(graph[1]))"
   ]
  },
  {
   "cell_type": "code",
   "execution_count": 109,
   "metadata": {},
   "outputs": [
    {
     "name": "stdout",
     "output_type": "stream",
     "text": [
      "Collecting pyvis\n",
      "  Downloading pyvis-0.3.0.tar.gz (592 kB)\n",
      "Requirement already satisfied: jinja2>=2.9.6 in c:\\users\\rishi\\anaconda3\\lib\\site-packages (from pyvis) (2.11.3)\n",
      "Requirement already satisfied: networkx>=1.11 in c:\\users\\rishi\\anaconda3\\lib\\site-packages (from pyvis) (2.6.3)\n",
      "Requirement already satisfied: ipython>=5.3.0 in c:\\users\\rishi\\anaconda3\\lib\\site-packages (from pyvis) (7.29.0)\n",
      "Collecting jsonpickle>=1.4.1\n",
      "  Downloading jsonpickle-2.2.0-py2.py3-none-any.whl (39 kB)\n",
      "Requirement already satisfied: decorator in c:\\users\\rishi\\anaconda3\\lib\\site-packages (from ipython>=5.3.0->pyvis) (5.1.0)\n",
      "Requirement already satisfied: prompt-toolkit!=3.0.0,!=3.0.1,<3.1.0,>=2.0.0 in c:\\users\\rishi\\anaconda3\\lib\\site-packages (from ipython>=5.3.0->pyvis) (3.0.20)\n",
      "Requirement already satisfied: matplotlib-inline in c:\\users\\rishi\\anaconda3\\lib\\site-packages (from ipython>=5.3.0->pyvis) (0.1.2)\n",
      "Requirement already satisfied: jedi>=0.16 in c:\\users\\rishi\\anaconda3\\lib\\site-packages (from ipython>=5.3.0->pyvis) (0.17.2)\n",
      "Requirement already satisfied: setuptools>=18.5 in c:\\users\\rishi\\anaconda3\\lib\\site-packages (from ipython>=5.3.0->pyvis) (58.0.4)\n",
      "Requirement already satisfied: backcall in c:\\users\\rishi\\anaconda3\\lib\\site-packages (from ipython>=5.3.0->pyvis) (0.2.0)\n",
      "Requirement already satisfied: colorama in c:\\users\\rishi\\anaconda3\\lib\\site-packages (from ipython>=5.3.0->pyvis) (0.4.4)\n",
      "Requirement already satisfied: pickleshare in c:\\users\\rishi\\anaconda3\\lib\\site-packages (from ipython>=5.3.0->pyvis) (0.7.5)\n",
      "Requirement already satisfied: pygments in c:\\users\\rishi\\anaconda3\\lib\\site-packages (from ipython>=5.3.0->pyvis) (2.10.0)\n",
      "Requirement already satisfied: traitlets>=4.2 in c:\\users\\rishi\\anaconda3\\lib\\site-packages (from ipython>=5.3.0->pyvis) (5.1.1)\n",
      "Requirement already satisfied: parso<0.8.0,>=0.7.0 in c:\\users\\rishi\\anaconda3\\lib\\site-packages (from jedi>=0.16->ipython>=5.3.0->pyvis) (0.7.0)\n",
      "Requirement already satisfied: MarkupSafe>=0.23 in c:\\users\\rishi\\anaconda3\\lib\\site-packages (from jinja2>=2.9.6->pyvis) (2.0.1)\n",
      "Requirement already satisfied: importlib-metadata in c:\\users\\rishi\\anaconda3\\lib\\site-packages (from jsonpickle>=1.4.1->pyvis) (4.8.2)\n",
      "Requirement already satisfied: wcwidth in c:\\users\\rishi\\anaconda3\\lib\\site-packages (from prompt-toolkit!=3.0.0,!=3.0.1,<3.1.0,>=2.0.0->ipython>=5.3.0->pyvis) (0.2.5)\n",
      "Requirement already satisfied: typing-extensions>=3.6.4 in c:\\users\\rishi\\anaconda3\\lib\\site-packages (from importlib-metadata->jsonpickle>=1.4.1->pyvis) (3.10.0.2)\n",
      "Requirement already satisfied: zipp>=0.5 in c:\\users\\rishi\\anaconda3\\lib\\site-packages (from importlib-metadata->jsonpickle>=1.4.1->pyvis) (3.6.0)\n",
      "Building wheels for collected packages: pyvis\n",
      "  Building wheel for pyvis (setup.py): started\n",
      "  Building wheel for pyvis (setup.py): finished with status 'done'\n",
      "  Created wheel for pyvis: filename=pyvis-0.3.0-py3-none-any.whl size=600248 sha256=a12fd0afedd212eed0f85c6761d4da1a60fa5d169126cde7857a83e29488ce00\n",
      "  Stored in directory: c:\\users\\rishi\\appdata\\local\\pip\\cache\\wheels\\57\\74\\32\\e404e0d76fbb2dc4e3791b821cfae6a69c1a6677ded99dc8b7\n",
      "Successfully built pyvis\n",
      "Installing collected packages: jsonpickle, pyvis\n",
      "Successfully installed jsonpickle-2.2.0 pyvis-0.3.0\n",
      "Note: you may need to restart the kernel to use updated packages.\n"
     ]
    }
   ],
   "source": [
    "pip install pyvis"
   ]
  },
  {
   "cell_type": "code",
   "execution_count": 12,
   "metadata": {},
   "outputs": [],
   "source": [
    "\n",
    "from pyvis.network import Network\n",
    "import networkx as nx"
   ]
  },
  {
   "cell_type": "code",
   "execution_count": 14,
   "metadata": {},
   "outputs": [
    {
     "name": "stdout",
     "output_type": "stream",
     "text": [
      "Local cdn resources have problems on chrome/safari when used in jupyter-notebook. \n"
     ]
    },
    {
     "ename": "AssertionError",
     "evalue": "",
     "output_type": "error",
     "traceback": [
      "\u001b[1;31m---------------------------------------------------------------------------\u001b[0m",
      "\u001b[1;31mAssertionError\u001b[0m                            Traceback (most recent call last)",
      "\u001b[1;32m~\\AppData\\Local\\Temp/ipykernel_800/2929048727.py\u001b[0m in \u001b[0;36m<module>\u001b[1;34m\u001b[0m\n\u001b[0;32m      1\u001b[0m \u001b[0mg\u001b[0m \u001b[1;33m=\u001b[0m \u001b[0mNetwork\u001b[0m\u001b[1;33m(\u001b[0m\u001b[0mnotebook\u001b[0m\u001b[1;33m=\u001b[0m\u001b[1;32mTrue\u001b[0m\u001b[1;33m)\u001b[0m\u001b[1;33m\u001b[0m\u001b[1;33m\u001b[0m\u001b[0m\n\u001b[1;32m----> 2\u001b[1;33m \u001b[0mg\u001b[0m\u001b[1;33m.\u001b[0m\u001b[0mfrom_nx\u001b[0m\u001b[1;33m(\u001b[0m\u001b[0mgraph\u001b[0m\u001b[1;33m,\u001b[0m\u001b[0mnx\u001b[0m\u001b[1;33m.\u001b[0m\u001b[0mgraph\u001b[0m\u001b[1;33m)\u001b[0m\u001b[1;33m\u001b[0m\u001b[1;33m\u001b[0m\u001b[0m\n\u001b[0m\u001b[0;32m      3\u001b[0m \u001b[0mg\u001b[0m\u001b[1;33m.\u001b[0m\u001b[0mshow\u001b[0m\u001b[1;33m(\u001b[0m\u001b[1;34m\"EXAMPLE.html\"\u001b[0m\u001b[1;33m)\u001b[0m\u001b[1;33m\u001b[0m\u001b[1;33m\u001b[0m\u001b[0m\n",
      "\u001b[1;32mc:\\Users\\rishi\\anaconda3\\lib\\site-packages\\pyvis\\network.py\u001b[0m in \u001b[0;36mfrom_nx\u001b[1;34m(self, nx_graph, node_size_transf, edge_weight_transf, default_node_size, default_edge_weight, show_edge_weights, edge_scaling)\u001b[0m\n\u001b[0;32m    680\u001b[0m         \u001b[1;33m>>\u001b[0m\u001b[1;33m>\u001b[0m \u001b[0mnt\u001b[0m\u001b[1;33m.\u001b[0m\u001b[0mshow\u001b[0m\u001b[1;33m(\u001b[0m\u001b[1;34m\"nx.html\"\u001b[0m\u001b[1;33m)\u001b[0m\u001b[1;33m\u001b[0m\u001b[1;33m\u001b[0m\u001b[0m\n\u001b[0;32m    681\u001b[0m         \"\"\"\n\u001b[1;32m--> 682\u001b[1;33m         \u001b[1;32massert\u001b[0m\u001b[1;33m(\u001b[0m\u001b[0misinstance\u001b[0m\u001b[1;33m(\u001b[0m\u001b[0mnx_graph\u001b[0m\u001b[1;33m,\u001b[0m \u001b[0mnx\u001b[0m\u001b[1;33m.\u001b[0m\u001b[0mGraph\u001b[0m\u001b[1;33m)\u001b[0m\u001b[1;33m)\u001b[0m\u001b[1;33m\u001b[0m\u001b[1;33m\u001b[0m\u001b[0m\n\u001b[0m\u001b[0;32m    683\u001b[0m         \u001b[0medges\u001b[0m\u001b[1;33m=\u001b[0m\u001b[0mnx_graph\u001b[0m\u001b[1;33m.\u001b[0m\u001b[0medges\u001b[0m\u001b[1;33m(\u001b[0m\u001b[0mdata\u001b[0m \u001b[1;33m=\u001b[0m \u001b[1;32mTrue\u001b[0m\u001b[1;33m)\u001b[0m\u001b[1;33m\u001b[0m\u001b[1;33m\u001b[0m\u001b[0m\n\u001b[0;32m    684\u001b[0m         \u001b[0mnodes\u001b[0m\u001b[1;33m=\u001b[0m\u001b[0mnx_graph\u001b[0m\u001b[1;33m.\u001b[0m\u001b[0mnodes\u001b[0m\u001b[1;33m(\u001b[0m\u001b[0mdata\u001b[0m \u001b[1;33m=\u001b[0m \u001b[1;32mTrue\u001b[0m\u001b[1;33m)\u001b[0m\u001b[1;33m\u001b[0m\u001b[1;33m\u001b[0m\u001b[0m\n",
      "\u001b[1;31mAssertionError\u001b[0m: "
     ]
    }
   ],
   "source": [
    "g = Network(notebook=True)\n",
    "g.from_nx(graph,nx.graph)\n",
    "g.show(\"EXAMPLE.html\")"
   ]
  }
 ],
 "metadata": {
  "kernelspec": {
   "display_name": "Python 3.7.6 ('base')",
   "language": "python",
   "name": "python3"
  },
  "language_info": {
   "codemirror_mode": {
    "name": "ipython",
    "version": 3
   },
   "file_extension": ".py",
   "mimetype": "text/x-python",
   "name": "python",
   "nbconvert_exporter": "python",
   "pygments_lexer": "ipython3",
   "version": "3.7.6"
  },
  "orig_nbformat": 4,
  "vscode": {
   "interpreter": {
    "hash": "a51737a4c0e7328d8ce0f0decd4cd1b65f27dccb5edff84165db78d2aa40b74b"
   }
  }
 },
 "nbformat": 4,
 "nbformat_minor": 2
}
